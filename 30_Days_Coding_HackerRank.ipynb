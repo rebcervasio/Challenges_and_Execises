{
 "cells": [
  {
   "cell_type": "markdown",
   "metadata": {},
   "source": [
    "# HackerRank - 30 Days of Coding"
   ]
  },
  {
   "cell_type": "markdown",
   "metadata": {
    "heading_collapsed": true
   },
   "source": [
    "## Day 2 - Operators"
   ]
  },
  {
   "cell_type": "code",
   "execution_count": null,
   "metadata": {
    "hidden": true
   },
   "outputs": [],
   "source": [
    "def solve(meal_cost, tip_percent, tax_percent):\n",
    "    # Write your code here\n",
    "    tip = (meal_cost*tip_percent)/100\n",
    "    tax = (meal_cost*tax_percent)/100\n",
    "    total_cost = meal_cost+tip+tax\n",
    "    return print(round(total_cost))\n",
    "if __name__ == '__main__':\n",
    "    meal_cost = float(input().strip())\n",
    "\n",
    "    tip_percent = int(input().strip())\n",
    "\n",
    "    tax_percent = int(input().strip())\n",
    "\n",
    "    solve(meal_cost, tip_percent, tax_percent)"
   ]
  },
  {
   "cell_type": "markdown",
   "metadata": {
    "heading_collapsed": true
   },
   "source": [
    "## Day 3 -  Intro to Conditional Statements"
   ]
  },
  {
   "cell_type": "code",
   "execution_count": 26,
   "metadata": {
    "hidden": true
   },
   "outputs": [
    {
     "name": "stdout",
     "output_type": "stream",
     "text": [
      "it is pair\n",
      "Not Weird\n"
     ]
    }
   ],
   "source": [
    "if (N%2 == 0):\n",
    "    print(\"it is pair\")\n",
    "    if (N in [number for number in range(2, 6)]):\n",
    "        print(\"Not Weird\")\n",
    "    elif (N in [number for number in range(6, 21)]):\n",
    "        print(\"Weird\")\n",
    "    else:\n",
    "        print(\"Not Weird\")\n",
    "else:\n",
    "    print(\"Weird\")"
   ]
  },
  {
   "cell_type": "markdown",
   "metadata": {
    "heading_collapsed": true
   },
   "source": [
    "## Day 4 - Class vs. Instance"
   ]
  },
  {
   "cell_type": "code",
   "execution_count": 25,
   "metadata": {
    "hidden": true
   },
   "outputs": [],
   "source": [
    "class Person:\n",
    "    def __init__(self,initialAge):\n",
    "        # Add some more code to run some checks on initialAge\n",
    "        self.initialAge = initialAge\n",
    "        if self.initialAge < 0:\n",
    "            self.initialAge = 0\n",
    "            print(\"Age is not valid, setting age to 0.\")\n",
    "        else:\n",
    "            self.initialAge = initialAge\n",
    "    def amIOld(self):\n",
    "        # Do some computations in here and print out the correct statement to the console\n",
    "        if self.initialAge < 13:\n",
    "            print(\"You are young.\")\n",
    "        elif (self.initialAge >= 13) and (self.initialAge < 18):\n",
    "            print(\"You are a teenager.\")\n",
    "        else:\n",
    "            print(\"You are old.\")\n",
    "    def yearPasses(self):\n",
    "        # Increment the age of the person in here\n",
    "        self.initialAge = self.initialAge +1\n",
    "        age = self.initialAge\n",
    "        return age"
   ]
  },
  {
   "cell_type": "markdown",
   "metadata": {
    "heading_collapsed": true
   },
   "source": [
    "## Day 5: Loops"
   ]
  },
  {
   "cell_type": "code",
   "execution_count": 31,
   "metadata": {
    "hidden": true
   },
   "outputs": [
    {
     "name": "stdout",
     "output_type": "stream",
     "text": [
      "2 x 1 = 2\n",
      "2 x 2 = 4\n",
      "2 x 3 = 6\n",
      "2 x 4 = 8\n",
      "2 x 5 = 10\n",
      "2 x 6 = 12\n",
      "2 x 7 = 14\n",
      "2 x 8 = 16\n",
      "2 x 9 = 18\n",
      "2 x 10 = 20\n"
     ]
    }
   ],
   "source": [
    "n = 2\n",
    "\n",
    "list_numbers = range(1, 11)\n",
    "\n",
    "for number in list_numbers:\n",
    "#     print(number)\n",
    "    multi = n*number\n",
    "    print(f\"{n} x {number} = {multi}\")"
   ]
  },
  {
   "cell_type": "markdown",
   "metadata": {
    "heading_collapsed": true
   },
   "source": [
    "## Day 6 - Let's Review"
   ]
  },
  {
   "cell_type": "code",
   "execution_count": 42,
   "metadata": {
    "hidden": true
   },
   "outputs": [
    {
     "ename": "KeyboardInterrupt",
     "evalue": "Interrupted by user",
     "output_type": "error",
     "traceback": [
      "\u001b[1;31m---------------------------------------------------------------------------\u001b[0m",
      "\u001b[1;31mKeyboardInterrupt\u001b[0m                         Traceback (most recent call last)",
      "\u001b[1;32m<ipython-input-42-37bbe8fe6e30>\u001b[0m in \u001b[0;36m<module>\u001b[1;34m\u001b[0m\n\u001b[1;32m----> 1\u001b[1;33m \u001b[0mn\u001b[0m \u001b[1;33m=\u001b[0m \u001b[0mint\u001b[0m\u001b[1;33m(\u001b[0m\u001b[0minput\u001b[0m\u001b[1;33m(\u001b[0m\u001b[1;33m)\u001b[0m\u001b[1;33m)\u001b[0m\u001b[1;33m\u001b[0m\u001b[1;33m\u001b[0m\u001b[0m\n\u001b[0m\u001b[0;32m      2\u001b[0m \u001b[1;33m\u001b[0m\u001b[0m\n\u001b[0;32m      3\u001b[0m \u001b[1;32mfor\u001b[0m \u001b[0mi\u001b[0m \u001b[1;32min\u001b[0m \u001b[0mrange\u001b[0m\u001b[1;33m(\u001b[0m\u001b[0mn\u001b[0m\u001b[1;33m)\u001b[0m\u001b[1;33m:\u001b[0m\u001b[1;33m\u001b[0m\u001b[1;33m\u001b[0m\u001b[0m\n\u001b[0;32m      4\u001b[0m     \u001b[0ms\u001b[0m \u001b[1;33m=\u001b[0m \u001b[0mstr\u001b[0m\u001b[1;33m(\u001b[0m\u001b[0minput\u001b[0m\u001b[1;33m(\u001b[0m\u001b[1;33m)\u001b[0m\u001b[1;33m)\u001b[0m\u001b[1;33m\u001b[0m\u001b[1;33m\u001b[0m\u001b[0m\n\u001b[0;32m      5\u001b[0m \u001b[1;33m\u001b[0m\u001b[0m\n",
      "\u001b[1;32mc:\\users\\rebce\\appdata\\local\\programs\\python\\python37\\lib\\site-packages\\ipykernel\\kernelbase.py\u001b[0m in \u001b[0;36mraw_input\u001b[1;34m(self, prompt)\u001b[0m\n\u001b[0;32m    861\u001b[0m             \u001b[0mself\u001b[0m\u001b[1;33m.\u001b[0m\u001b[0m_parent_ident\u001b[0m\u001b[1;33m,\u001b[0m\u001b[1;33m\u001b[0m\u001b[1;33m\u001b[0m\u001b[0m\n\u001b[0;32m    862\u001b[0m             \u001b[0mself\u001b[0m\u001b[1;33m.\u001b[0m\u001b[0m_parent_header\u001b[0m\u001b[1;33m,\u001b[0m\u001b[1;33m\u001b[0m\u001b[1;33m\u001b[0m\u001b[0m\n\u001b[1;32m--> 863\u001b[1;33m             \u001b[0mpassword\u001b[0m\u001b[1;33m=\u001b[0m\u001b[1;32mFalse\u001b[0m\u001b[1;33m,\u001b[0m\u001b[1;33m\u001b[0m\u001b[1;33m\u001b[0m\u001b[0m\n\u001b[0m\u001b[0;32m    864\u001b[0m         )\n\u001b[0;32m    865\u001b[0m \u001b[1;33m\u001b[0m\u001b[0m\n",
      "\u001b[1;32mc:\\users\\rebce\\appdata\\local\\programs\\python\\python37\\lib\\site-packages\\ipykernel\\kernelbase.py\u001b[0m in \u001b[0;36m_input_request\u001b[1;34m(self, prompt, ident, parent, password)\u001b[0m\n\u001b[0;32m    902\u001b[0m             \u001b[1;32mexcept\u001b[0m \u001b[0mKeyboardInterrupt\u001b[0m\u001b[1;33m:\u001b[0m\u001b[1;33m\u001b[0m\u001b[1;33m\u001b[0m\u001b[0m\n\u001b[0;32m    903\u001b[0m                 \u001b[1;31m# re-raise KeyboardInterrupt, to truncate traceback\u001b[0m\u001b[1;33m\u001b[0m\u001b[1;33m\u001b[0m\u001b[1;33m\u001b[0m\u001b[0m\n\u001b[1;32m--> 904\u001b[1;33m                 \u001b[1;32mraise\u001b[0m \u001b[0mKeyboardInterrupt\u001b[0m\u001b[1;33m(\u001b[0m\u001b[1;34m\"Interrupted by user\"\u001b[0m\u001b[1;33m)\u001b[0m \u001b[1;32mfrom\u001b[0m \u001b[1;32mNone\u001b[0m\u001b[1;33m\u001b[0m\u001b[1;33m\u001b[0m\u001b[0m\n\u001b[0m\u001b[0;32m    905\u001b[0m             \u001b[1;32mexcept\u001b[0m \u001b[0mException\u001b[0m \u001b[1;32mas\u001b[0m \u001b[0me\u001b[0m\u001b[1;33m:\u001b[0m\u001b[1;33m\u001b[0m\u001b[1;33m\u001b[0m\u001b[0m\n\u001b[0;32m    906\u001b[0m                 \u001b[0mself\u001b[0m\u001b[1;33m.\u001b[0m\u001b[0mlog\u001b[0m\u001b[1;33m.\u001b[0m\u001b[0mwarning\u001b[0m\u001b[1;33m(\u001b[0m\u001b[1;34m\"Invalid Message:\"\u001b[0m\u001b[1;33m,\u001b[0m \u001b[0mexc_info\u001b[0m\u001b[1;33m=\u001b[0m\u001b[1;32mTrue\u001b[0m\u001b[1;33m)\u001b[0m\u001b[1;33m\u001b[0m\u001b[1;33m\u001b[0m\u001b[0m\n",
      "\u001b[1;31mKeyboardInterrupt\u001b[0m: Interrupted by user"
     ]
    }
   ],
   "source": [
    "n = int(input())\n",
    "\n",
    "for i in range(n):\n",
    "    s = str(input())\n",
    "\n",
    "    indexes = range(len(s))\n",
    "\n",
    "    even_s = ''\n",
    "    odd_s = ''\n",
    "\n",
    "    for idx in indexes:\n",
    "        if idx%2 == 0:\n",
    "            even_s = even_s + s[idx]\n",
    "        else:\n",
    "            odd_s = odd_s + s[idx]\n",
    "\n",
    "    print(even_s, odd_s)"
   ]
  },
  {
   "cell_type": "markdown",
   "metadata": {
    "heading_collapsed": true
   },
   "source": [
    "## Day 7 - Arrays"
   ]
  },
  {
   "cell_type": "code",
   "execution_count": 77,
   "metadata": {
    "hidden": true
   },
   "outputs": [
    {
     "name": "stdout",
     "output_type": "stream",
     "text": [
      "2 3 4 1\n"
     ]
    }
   ],
   "source": [
    "arr = [1, 4, 3, 2]\n",
    "\n",
    "text = ''\n",
    "for i in arr:\n",
    "    text = text+str(i)+\" \"\n",
    "text = text[:-1]\n",
    "# print(text[:-1])\n",
    "print(text[::-1])"
   ]
  },
  {
   "cell_type": "code",
   "execution_count": 61,
   "metadata": {
    "hidden": true
   },
   "outputs": [
    {
     "data": {
      "text/plain": [
       "'2 3 4 1'"
      ]
     },
     "execution_count": 61,
     "metadata": {},
     "output_type": "execute_result"
    }
   ],
   "source": [
    "text[::-1]"
   ]
  },
  {
   "cell_type": "code",
   "execution_count": 79,
   "metadata": {
    "hidden": true
   },
   "outputs": [
    {
     "name": "stdout",
     "output_type": "stream",
     "text": [
      "2676 0588 685 324 3738 3604 6123 6766\n"
     ]
    }
   ],
   "source": [
    "n = 8\n",
    "arr = [6676, 3216, 4063, 8373, 423, 586, 8850, 6762]\n",
    "\n",
    "text = ''\n",
    "if len(arr)\n",
    "for i in arr:\n",
    "    text = text+str(i)+\" \"\n",
    "text = text[:-1]\n",
    "# print(text[:-1])\n",
    "print(text[::-1])"
   ]
  },
  {
   "cell_type": "code",
   "execution_count": 90,
   "metadata": {
    "hidden": true
   },
   "outputs": [
    {
     "name": "stdout",
     "output_type": "stream",
     "text": [
      "2 3 4 1 \n"
     ]
    }
   ],
   "source": [
    "n = 8\n",
    "arr = [6676, 3216, 4063, 8373, 423, 586, 8850, 6762]\n",
    "arr = [1, 4, 3, 2]\n",
    "\n",
    "# new_arr = []\n",
    "# for i in range(8):\n",
    "# #     print(i, arr[i])\n",
    "    \n",
    "arr[::-1]\n",
    "\n",
    "# for i in arr[::-1]:\n",
    "#     print(i)\n",
    "    \n",
    "text = ''\n",
    "\n",
    "for i in arr[::-1]:\n",
    "    text = text+str(i)+\" \"\n",
    "\n",
    "print(text)"
   ]
  },
  {
   "cell_type": "markdown",
   "metadata": {
    "heading_collapsed": true
   },
   "source": [
    "## Day 8 - Names and Phones"
   ]
  },
  {
   "cell_type": "code",
   "execution_count": null,
   "metadata": {
    "hidden": true
   },
   "outputs": [],
   "source": [
    "n = int(input())\n",
    "\n",
    "dic = {}\n",
    "\n",
    "for i in range(n):\n",
    "    s = str(input())\n",
    "    name = s.split()[0]\n",
    "    phone = s.split()[1]\n",
    "\n",
    "    dic[name] = phone\n",
    "\n",
    "while True:\n",
    "    try:\n",
    "        item = input()\n",
    "        if item in dic:\n",
    "            print(f\"{item}={dic[item]}\")\n",
    "        else:\n",
    "            print(\"Not found\")\n",
    "    except EOFError:\n",
    "        break"
   ]
  },
  {
   "cell_type": "code",
   "execution_count": 18,
   "metadata": {
    "hidden": true
   },
   "outputs": [
    {
     "name": "stdout",
     "output_type": "stream",
     "text": [
      "yes\n",
      "sam=99912222\n",
      "Not found\n",
      "yes\n",
      "harry=12299933\n"
     ]
    }
   ],
   "source": [
    "#  this method works only if the query lenght is the same as n inputs with phone\n",
    "\n",
    "dic = {'sam': '99912222', 'tom': '11122222', 'harry': '12299933'}\n",
    "\n",
    "list_query = ['sam', 'edward', 'harry']\n",
    "\n",
    "for item in list_query:\n",
    "    if item in dic:\n",
    "#         print(\"yes\")\n",
    "        print(f\"{item}={dic[item]}\")\n",
    "    else:\n",
    "        print(\"Not found\")"
   ]
  },
  {
   "cell_type": "markdown",
   "metadata": {
    "heading_collapsed": true
   },
   "source": [
    "## Day 9 - Factorial"
   ]
  },
  {
   "cell_type": "code",
   "execution_count": 5,
   "metadata": {
    "hidden": true
   },
   "outputs": [
    {
     "name": "stdout",
     "output_type": "stream",
     "text": [
      "[1, 2, 3]\n",
      "1\n",
      "2\n",
      "3\n"
     ]
    },
    {
     "data": {
      "text/plain": [
       "6"
      ]
     },
     "execution_count": 5,
     "metadata": {},
     "output_type": "execute_result"
    }
   ],
   "source": [
    "n = 3\n",
    "\n",
    "result = 1\n",
    "for i in range(1, n+1):\n",
    "    print(i)\n",
    "    result = result*i\n",
    "    \n",
    "result    "
   ]
  },
  {
   "cell_type": "markdown",
   "metadata": {
    "heading_collapsed": true
   },
   "source": [
    "## Day 10 - Base 10 to binary"
   ]
  },
  {
   "cell_type": "code",
   "execution_count": 35,
   "metadata": {
    "hidden": true
   },
   "outputs": [
    {
     "name": "stdout",
     "output_type": "stream",
     "text": [
      "1\n"
     ]
    }
   ],
   "source": [
    "n=5\n",
    "\n",
    "binary = []\n",
    "    \n",
    "while n > 0:\n",
    "    rest = n % 2\n",
    "    n = n//2\n",
    "    binary.append(rest)\n",
    "\n",
    "count, result = 0, 0\n",
    "\n",
    "for i in range(0, len(binary)):\n",
    "    if binary[i] == 0:\n",
    "        count = 0\n",
    "    else:\n",
    "        count +=1\n",
    "        result = max(result,count)\n",
    "\n",
    "print(result)\n"
   ]
  },
  {
   "cell_type": "markdown",
   "metadata": {
    "heading_collapsed": true
   },
   "source": [
    "## Day 11 - Arrays (hourglass)"
   ]
  },
  {
   "cell_type": "code",
   "execution_count": 71,
   "metadata": {
    "hidden": true
   },
   "outputs": [
    {
     "name": "stdout",
     "output_type": "stream",
     "text": [
      "19\n"
     ]
    }
   ],
   "source": [
    "arr = [[1, 1, 1, 0, 0, 0], \n",
    "       [0, 1, 0, 0, 0, 0], \n",
    "       [1, 1, 1, 0, 0, 0], \n",
    "       [0, 0, 2, 4, 4, 0], \n",
    "       [0, 0, 0, 2, 0, 0], \n",
    "       [0, 0, 1, 2, 4, 0]]\n",
    "\n",
    "\n",
    "hourglass_list = []\n",
    "for i in range(len(arr)):\n",
    "    for idx in range(len(arr[0])):\n",
    "        if idx == (len(arr[0])-2) or (i > 3):\n",
    "            break\n",
    "        else:\n",
    "            hourglass= [arr[i][idx], arr[i][idx+1], arr[i][idx+2], \n",
    "                        arr[i+1][idx+1], \n",
    "                        arr[i+2][idx], arr[i+2][idx+1], arr[i+2][idx+2]]\n",
    "            \n",
    "            hourglass_list.append(sum(hourglass))\n",
    "            \n",
    "\n",
    "print(max(hourglass_list))"
   ]
  },
  {
   "cell_type": "markdown",
   "metadata": {
    "heading_collapsed": true
   },
   "source": [
    "## Day 12 - Outstanding Inheritance"
   ]
  },
  {
   "cell_type": "code",
   "execution_count": null,
   "metadata": {
    "hidden": true
   },
   "outputs": [],
   "source": [
    "class Person:\n",
    "    def __init__(self, firstName, lastName, idNumber):\n",
    "        self.firstName = firstName\n",
    "        self.lastName = lastName\n",
    "        self.idNumber = idNumber\n",
    "    def printPerson(self):\n",
    "        print(\"Name:\", self.lastName + \",\", self.firstName)\n",
    "        print(\"ID:\", self.idNumber)\n",
    "        \n",
    "class Student(Person):\n",
    "    #   Class Constructor         \n",
    "    #   Parameters:\n",
    "    #   firstName - A string denoting the Person's first name.\n",
    "    #   lastName - A string denoting the Person's last name.\n",
    "    #   id - An integer denoting the Person's ID number.\n",
    "    #   scores - An array of integers denoting the Person's test scores.\n",
    "    #\n",
    "    # Write your constructor here\n",
    "    def __init__(self, firstName, lastName, idNumber, scores):  \n",
    "        self.firstName = firstName\n",
    "        self.lastName = lastName\n",
    "        self.idNumber = idNumber\n",
    "        self.scores = scores\n",
    "\n",
    "    #   Function Name: calculate\n",
    "    #   Return: A character denoting the grade.\n",
    "    #\n",
    "    # Write your function here\n",
    "    def calculate(self):\n",
    "        average = sum(scores)/len(scores)\n",
    "        if 90 <= average <= 100:\n",
    "            letter = \"O\"\n",
    "        elif 80 <= average < 90:\n",
    "            letter = \"E\"\n",
    "        elif 70 <= average < 80:\n",
    "            letter = \"A\"\n",
    "        elif 55 <= average < 70:\n",
    "            letter = \"P\"\n",
    "        elif 40 <= average < 55:\n",
    "            letter = \"D\"\n",
    "        elif average < 40:\n",
    "            letter = \"T\"\n",
    "            \n",
    "        return letter\n",
    "\n",
    "line = input().split()\n",
    "firstName = line[0]\n",
    "lastName = line[1]\n",
    "idNum = line[2]\n",
    "numScores = int(input()) # not needed for Python\n",
    "scores = list( map(int, input().split()) )\n",
    "s = Student(firstName, lastName, idNum, scores)\n",
    "s.printPerson()\n",
    "print(\"Grade:\", s.calculate())"
   ]
  },
  {
   "cell_type": "markdown",
   "metadata": {
    "heading_collapsed": true
   },
   "source": [
    "## Day 13 - Abstract Classes"
   ]
  },
  {
   "cell_type": "code",
   "execution_count": null,
   "metadata": {
    "hidden": true
   },
   "outputs": [],
   "source": [
    "from abc import ABCMeta, abstractmethod\n",
    "class Book:\n",
    "    def __init__(self, title, author, price):\n",
    "        self.title = title\n",
    "        self.author = author\n",
    "        self.price = price\n",
    "    \n",
    "    def display(self):\n",
    "        print(f\"Title: {self.title}\")\n",
    "        print(f\"Author: {self.author}\")\n",
    "        print(f\"Price: {self.price}\")\n",
    "        \n",
    "#Write MyBook class\n",
    "class MyBook(Book):\n",
    "    def __init__(self, title, author, price):\n",
    "        Book.__init__(self, title, author, price)\n",
    "\n",
    "        \n",
    "\n",
    "title=input()\n",
    "author=input()\n",
    "price=int(input())\n",
    "new_novel=MyBook(title,author,price)\n",
    "new_novel.display()"
   ]
  },
  {
   "cell_type": "markdown",
   "metadata": {
    "heading_collapsed": true
   },
   "source": [
    "## Day 14 - Scope"
   ]
  },
  {
   "cell_type": "code",
   "execution_count": null,
   "metadata": {
    "hidden": true
   },
   "outputs": [],
   "source": [
    "class Difference:\n",
    "    def __init__(self, a):\n",
    "        self.__elements = a\n",
    "\n",
    "\t# Add your code here\n",
    "    def computeDifference(self):\n",
    "        maximumDifference = 0\n",
    "        for i in range(len(a)):\n",
    "            for j in range (i+1, len(a)):\n",
    "                if abs(a[j] - a[i]) > maximumDifference:\n",
    "                    maximumDifference = abs(a[j] - a[i])\n",
    "        self.maximumDifference = maximumDifference\n",
    "# End of Difference class\n",
    "\n",
    "_ = input()\n",
    "a = [int(e) for e in input().split(' ')]\n",
    "\n",
    "d = Difference(a)\n",
    "d.computeDifference()\n",
    "\n",
    "print(d.maximumDifference)"
   ]
  },
  {
   "cell_type": "markdown",
   "metadata": {
    "heading_collapsed": true
   },
   "source": [
    "## Day 15 - Linked List"
   ]
  },
  {
   "cell_type": "code",
   "execution_count": null,
   "metadata": {
    "hidden": true
   },
   "outputs": [],
   "source": [
    "class Node:\n",
    "    def __init__(self,data):\n",
    "        self.data = data\n",
    "        self.next = None \n",
    "class Solution: \n",
    "    def display(self,head):\n",
    "        current = head\n",
    "        while current:\n",
    "            print(current.data,end=' ')\n",
    "            current = current.next\n",
    "\n",
    "    def insert(self,head,data): \n",
    "    #Complete this method\n",
    "        Node.__init__(self, data)\n",
    "        node = Node(data)\n",
    "        if head == None:\n",
    "            head = node\n",
    "        else:\n",
    "            current = head\n",
    "            while current.next:\n",
    "                current = current.next\n",
    "            current.next = node\n",
    "        return head\n",
    "mylist= Solution()\n",
    "T=int(input())\n",
    "head=None\n",
    "for i in range(T):\n",
    "    data=int(input())\n",
    "    head=mylist.insert(head,data)    \n",
    "mylist.display(head);"
   ]
  },
  {
   "cell_type": "markdown",
   "metadata": {
    "heading_collapsed": true
   },
   "source": [
    "## Day 16 - Exceptions - String to Integer"
   ]
  },
  {
   "cell_type": "code",
   "execution_count": null,
   "metadata": {
    "hidden": true
   },
   "outputs": [],
   "source": [
    "#!/bin/python3\n",
    "\n",
    "import math\n",
    "import os\n",
    "import random\n",
    "import re\n",
    "import sys\n",
    "\n",
    "\n",
    "\n",
    "\n",
    "S = input().strip()\n",
    "try: \n",
    "    print (int(S))\n",
    "except ValueError: \n",
    "    print (\"Bad String\")"
   ]
  },
  {
   "cell_type": "markdown",
   "metadata": {
    "heading_collapsed": true
   },
   "source": [
    "## Day 17 - More Exceptions"
   ]
  },
  {
   "cell_type": "code",
   "execution_count": null,
   "metadata": {
    "hidden": true
   },
   "outputs": [],
   "source": [
    "#Write your code here\n",
    "class Calculator:\n",
    "    def power(self, n, p):\n",
    "        if n<0 or p<0:\n",
    "            raise Exception('n and p should be non-negative')\n",
    "        else:\n",
    "            return n**p\n",
    "myCalculator=Calculator()\n",
    "T=int(input())\n",
    "for i in range(T):\n",
    "    n,p = map(int, input().split())\n",
    "    try:\n",
    "        ans=myCalculator.power(n,p)\n",
    "        print(ans)\n",
    "    except Exception as e:\n",
    "        print(e) "
   ]
  },
  {
   "cell_type": "markdown",
   "metadata": {
    "heading_collapsed": true
   },
   "source": [
    "## Day 18 - Queues and Stacks"
   ]
  },
  {
   "cell_type": "code",
   "execution_count": null,
   "metadata": {
    "hidden": true
   },
   "outputs": [],
   "source": [
    "import sys\n",
    "\n",
    "class Solution:\n",
    "    # Write your code here\n",
    "    def __init__(self):\n",
    "        self.stack = []\n",
    "        self.queue = []\n",
    "        \n",
    "    def pushCharacter(self, ch):\n",
    "        self.stack.append(ch)\n",
    "        \n",
    "    def enqueueCharacter(self, ch):\n",
    "        self.queue.append(ch)\n",
    "        \n",
    "    def popCharacter(self):\n",
    "        return self.stack.pop()\n",
    "        \n",
    "    def dequeueCharacter(self):\n",
    "        return self.queue.pop(0)\n",
    "# read the string s\n",
    "s=input()\n",
    "#Create the Solution class object\n",
    "obj=Solution()   \n",
    "\n",
    "l=len(s)\n",
    "# push/enqueue all the characters of string s to stack\n",
    "for i in range(l):\n",
    "    obj.pushCharacter(s[i])\n",
    "    obj.enqueueCharacter(s[i])\n",
    "    \n",
    "isPalindrome=True\n",
    "'''\n",
    "pop the top character from stack\n",
    "dequeue the first character from queue\n",
    "compare both the characters\n",
    "''' \n",
    "for i in range(l // 2):\n",
    "    if obj.popCharacter()!=obj.dequeueCharacter():\n",
    "        isPalindrome=False\n",
    "        break\n",
    "#finally print whether string s is palindrome or not.\n",
    "if isPalindrome:\n",
    "    print(\"The word, \"+s+\", is a palindrome.\")\n",
    "else:\n",
    "    print(\"The word, \"+s+\", is not a palindrome.\")    "
   ]
  },
  {
   "cell_type": "markdown",
   "metadata": {
    "heading_collapsed": true
   },
   "source": [
    "## Day 19 - Interfaces"
   ]
  },
  {
   "cell_type": "code",
   "execution_count": null,
   "metadata": {
    "hidden": true
   },
   "outputs": [],
   "source": [
    "class AdvancedArithmetic(object):\n",
    "    def divisorSum(n):\n",
    "        raise NotImplementedError\n",
    "\n",
    "class Calculator(AdvancedArithmetic):\n",
    "    def divisorSum(self, n):\n",
    "        liste = []\n",
    "        for i in range(1, n + 1):\n",
    "            if n % i == 0:\n",
    "                liste.append(i)\n",
    "        return sum(liste)\n",
    "\n",
    "n = int(input())\n",
    "my_calculator = Calculator()\n",
    "s = my_calculator.divisorSum(n)\n",
    "print(\"I implemented: \" + type(my_calculator).__bases__[0].__name__)\n",
    "print(s)"
   ]
  },
  {
   "cell_type": "markdown",
   "metadata": {
    "heading_collapsed": true
   },
   "source": [
    "## Day 20 - Sorting"
   ]
  },
  {
   "cell_type": "code",
   "execution_count": null,
   "metadata": {
    "hidden": true
   },
   "outputs": [],
   "source": [
    "#!/bin/python3\n",
    "\n",
    "import math\n",
    "import os\n",
    "import random\n",
    "import re\n",
    "import sys\n",
    "\n",
    "\n",
    "\n",
    "if __name__ == '__main__':\n",
    "    n = int(input().strip())\n",
    "\n",
    "    a = list(map(int, input().rstrip().split()))\n",
    "    numberOfSwaps = 0\n",
    "    # Write your code here\n",
    "    for i in range(0, n-1):    \n",
    "        for i in range(0, n-1): \n",
    "            if (a[i] > a[i + 1]):\n",
    "                a[i],a[i+1] = a[i+1],a[i]\n",
    "                numberOfSwaps +=1\n",
    "                \n",
    "print(\"Array is sorted in\", numberOfSwaps, \"swaps.\")\n",
    "print(\"First Element:\",a[0])\n",
    "print(\"Last Element:\",a[-1])"
   ]
  },
  {
   "cell_type": "markdown",
   "metadata": {
    "heading_collapsed": true
   },
   "source": [
    "## Day 21 - Generics"
   ]
  },
  {
   "cell_type": "code",
   "execution_count": null,
   "metadata": {
    "hidden": true
   },
   "outputs": [],
   "source": [
    "template <class T>\n",
    "void printArray(vector<T> vec){\n",
    "    \n",
    "    for(int i=0; i<vec.size(); i++)\n",
    "    cout<<vec[i]<<endl;\n",
    "}"
   ]
  },
  {
   "cell_type": "markdown",
   "metadata": {
    "heading_collapsed": true
   },
   "source": [
    "## Day 22 - Binary Search Trees"
   ]
  },
  {
   "cell_type": "code",
   "execution_count": null,
   "metadata": {
    "hidden": true
   },
   "outputs": [],
   "source": [
    "class Node:\n",
    "    def __init__(self,data):\n",
    "        self.right=self.left=None\n",
    "        self.data = data\n",
    "class Solution:\n",
    "    def insert(self,root,data):\n",
    "        if root==None:\n",
    "            return Node(data)\n",
    "        else:\n",
    "            if data<=root.data:\n",
    "                cur=self.insert(root.left,data)\n",
    "                root.left=cur\n",
    "            else:\n",
    "                cur=self.insert(root.right,data)\n",
    "                root.right=cur\n",
    "        return root\n",
    "\n",
    "    def getHeight(self,root):\n",
    "        #Write your code here\n",
    "        if root is None:\n",
    "            return -1\n",
    "        \n",
    "        hL = self.getHeight(root.left)\n",
    "        hR = self.getHeight(root.right)\n",
    "        \n",
    "        if hL > hR:\n",
    "            return 1+hL\n",
    "        else:\n",
    "            return 1+hR\n",
    "T=int(input())\n",
    "myTree=Solution()\n",
    "root=None\n",
    "for i in range(T):\n",
    "    data=int(input())\n",
    "    root=myTree.insert(root,data)\n",
    "height=myTree.getHeight(root)\n",
    "print(height)   "
   ]
  },
  {
   "cell_type": "markdown",
   "metadata": {
    "heading_collapsed": true
   },
   "source": [
    "## Day 23 - BST Level-Order Traversal"
   ]
  },
  {
   "cell_type": "code",
   "execution_count": null,
   "metadata": {
    "hidden": true
   },
   "outputs": [],
   "source": [
    "import sys\n",
    "\n",
    "class Node:\n",
    "    def __init__(self,data):\n",
    "        self.right=self.left=None\n",
    "        self.data = data\n",
    "class Solution:\n",
    "    def insert(self,root,data):\n",
    "        if root==None:\n",
    "            return Node(data)\n",
    "        else:\n",
    "            if data<=root.data:\n",
    "                cur=self.insert(root.left,data)\n",
    "                root.left=cur\n",
    "            else:\n",
    "                cur=self.insert(root.right,data)\n",
    "                root.right=cur\n",
    "        return root\n",
    "\n",
    "    def levelOrder(self,root):\n",
    "        #Write your code here\n",
    "        if root is None:\n",
    "            return\n",
    "        \n",
    "        qu = []\n",
    "        qu.append(root)\n",
    "        \n",
    "        while len(qu) != 0:\n",
    "            p = qu.pop(0)\n",
    "            print(p.data, end=' ')\n",
    "            if p.left is not None:\n",
    "                qu.append(p.left)\n",
    "            if p.right is not None:\n",
    "                qu.append(p.right)\n",
    "T=int(input())\n",
    "myTree=Solution()\n",
    "root=None\n",
    "for i in range(T):\n",
    "    data=int(input())\n",
    "    root=myTree.insert(root,data)\n",
    "myTree.levelOrder(root)"
   ]
  },
  {
   "cell_type": "markdown",
   "metadata": {
    "heading_collapsed": true
   },
   "source": [
    "## Day 24 - More Linked Lists"
   ]
  },
  {
   "cell_type": "code",
   "execution_count": null,
   "metadata": {
    "hidden": true
   },
   "outputs": [],
   "source": [
    "    def removeDuplicates(self,head):\n",
    "        qu = []\n",
    "        if head == None:\n",
    "            return \n",
    "        p = head\n",
    "        qu.append(p.data)\n",
    "        p = p.next\n",
    "        while p is not None:\n",
    "            qu.append(p.data)\n",
    "            p = p.next\n",
    "        qu = list(dict.fromkeys(qu))\n",
    "        for item in qu:\n",
    "            print(item,end=' ')"
   ]
  },
  {
   "cell_type": "markdown",
   "metadata": {
    "heading_collapsed": true
   },
   "source": [
    "## Day 25 - Running Time and Complexity"
   ]
  },
  {
   "cell_type": "code",
   "execution_count": null,
   "metadata": {
    "hidden": true
   },
   "outputs": [],
   "source": [
    "# Enter your code here. Read input from STDIN. Print output to STDOUT\n",
    "import math\n",
    "import os\n",
    "import random\n",
    "import re\n",
    "import sys\n",
    "\n",
    "\n",
    "\n",
    "if __name__ == '__main__':\n",
    "    T = int(input().strip())\n",
    "    for i in range(T):\n",
    "        flag = False\n",
    "        n=int(input())\n",
    "        if n == 1:\n",
    "            print(\"Not prime\")\n",
    "        elif n > 1:\n",
    "            for i in range(2,n):\n",
    "                if (n % i) == 0:\n",
    "                    flag = True\n",
    "                    break\n",
    "            if flag == True:\n",
    "                print(\"Not prime\")\n",
    "            else:\n",
    "                print(\"Prime\")"
   ]
  },
  {
   "cell_type": "markdown",
   "metadata": {
    "heading_collapsed": true
   },
   "source": [
    "## Day 26 - Nested Logic"
   ]
  },
  {
   "cell_type": "code",
   "execution_count": null,
   "metadata": {
    "hidden": true
   },
   "outputs": [],
   "source": [
    "d1, m1, y1 = map(int, input().split())\n",
    "d2, m2, y2 = map(int, input().split())\n",
    "\n",
    "if y1 > y2:\n",
    "    fine = 10000\n",
    "elif y1 == y2 and m1 > m2:\n",
    "    fine = 500 * (m1 - m2)\n",
    "elif y1 == y2 and m1 == m2 and d1 > d2:\n",
    "    fine = 15 * (d1 - d2)\n",
    "\n",
    "print(fine)"
   ]
  },
  {
   "cell_type": "markdown",
   "metadata": {
    "heading_collapsed": true
   },
   "source": [
    "## Day 27 - Testing"
   ]
  },
  {
   "cell_type": "code",
   "execution_count": null,
   "metadata": {
    "hidden": true
   },
   "outputs": [],
   "source": [
    "class TestDataEmptyArray(object):\n",
    "    def get_array():\n",
    "        return list()\n",
    "    \n",
    "class TestDataUniqueValues(object):\n",
    "    def get_array():\n",
    "        return [3, -6, 10000, 768, 9]\n",
    "    \n",
    "    def get_expected_result():\n",
    "        return 1\n",
    "    \n",
    "class TestDataExactlyTwoDifferentMinimums(object):\n",
    "    def get_array():\n",
    "        return [3, -6, 10000, 768, 9, -6, 13]\n",
    "    \n",
    "    def get_expected_result():\n",
    "        return 1"
   ]
  },
  {
   "cell_type": "markdown",
   "metadata": {
    "heading_collapsed": true
   },
   "source": [
    "## Day 28 - RegEx, Patterns, and Intro to Databases"
   ]
  },
  {
   "cell_type": "code",
   "execution_count": null,
   "metadata": {
    "hidden": true
   },
   "outputs": [],
   "source": [
    "if __name__ == '__main__':\n",
    "    N = int(input().strip())\n",
    "    names = []\n",
    "    for N_itr in range(N):\n",
    "        first_multiple_input = input().rstrip().split()\n",
    "\n",
    "        firstName = first_multiple_input[0]\n",
    "\n",
    "        emailID = first_multiple_input[1]\n",
    "        \n",
    "\n",
    "        \n",
    "        if \"@gmail.com\" in emailID:\n",
    "            names.append(str(firstName))\n",
    "        \n",
    "    names.sort()\n",
    "    for idx in range(len(names)):\n",
    "        print(names[idx])"
   ]
  },
  {
   "cell_type": "markdown",
   "metadata": {
    "heading_collapsed": true
   },
   "source": [
    "## Day 29 - Bitwise AND"
   ]
  },
  {
   "cell_type": "code",
   "execution_count": null,
   "metadata": {
    "hidden": true
   },
   "outputs": [],
   "source": [
    "def bitwiseAnd(N, K):\n",
    "    # Write your code here\n",
    "    maximum = 0\n",
    "    for i in range(1,N+1):\n",
    "        for j in range(1,i):\n",
    "            h = i & j\n",
    "            if maximum < h < K:\n",
    "                maximum = h\n",
    "            if maximum == K-1:\n",
    "                return maximum"
   ]
  }
 ],
 "metadata": {
  "kernelspec": {
   "display_name": "Python 3 (ipykernel)",
   "language": "python",
   "name": "python3"
  },
  "language_info": {
   "codemirror_mode": {
    "name": "ipython",
    "version": 3
   },
   "file_extension": ".py",
   "mimetype": "text/x-python",
   "name": "python",
   "nbconvert_exporter": "python",
   "pygments_lexer": "ipython3",
   "version": "3.7.1"
  },
  "varInspector": {
   "cols": {
    "lenName": 16,
    "lenType": 16,
    "lenVar": 40
   },
   "kernels_config": {
    "python": {
     "delete_cmd_postfix": "",
     "delete_cmd_prefix": "del ",
     "library": "var_list.py",
     "varRefreshCmd": "print(var_dic_list())"
    },
    "r": {
     "delete_cmd_postfix": ") ",
     "delete_cmd_prefix": "rm(",
     "library": "var_list.r",
     "varRefreshCmd": "cat(var_dic_list()) "
    }
   },
   "types_to_exclude": [
    "module",
    "function",
    "builtin_function_or_method",
    "instance",
    "_Feature"
   ],
   "window_display": false
  }
 },
 "nbformat": 4,
 "nbformat_minor": 4
}
